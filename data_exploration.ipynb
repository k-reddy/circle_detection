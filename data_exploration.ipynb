{
 "cells": [
  {
   "cell_type": "markdown",
   "id": "2ed71c5c-bb0c-4fa3-8edb-497e6a10de06",
   "metadata": {},
   "source": [
    "A notebook to:\n",
    "1) Answer the question of whether MSE loss is a poor choice if our test statistic is IOU\n",
    "2) Look at the actual model predictions vs targets to see if there are any obvious things we're doing wrong"
   ]
  },
  {
   "cell_type": "code",
   "execution_count": null,
   "id": "5152630f-7e01-47e5-8632-3257da8f030d",
   "metadata": {},
   "outputs": [],
   "source": [
    "from torch import load, from_numpy, tensor, no_grad\n",
    "from torch.utils.data import DataLoader\n",
    "\n",
    "import numpy as np\n",
    "import matplotlib.pyplot as plt\n",
    "\n",
    "from model_config import DataParams, TrainingParams, ArchitectureParams\n",
    "from model_trainer import ModelTrainer\n",
    "from cnn import CNN\n",
    "from circle_dataset import CircleDataset\n",
    "from circle_detection import show_circle, draw_circle, iou, CircleParams, count_ious_over_thresholds"
   ]
  },
  {
   "cell_type": "markdown",
   "id": "1756d070-a5ce-4653-a2d3-ef7a9756c74a",
   "metadata": {},
   "source": [
    "## Generate Predictions"
   ]
  },
  {
   "cell_type": "code",
   "execution_count": null,
   "id": "3a52f1dd-a862-450d-b4ad-e57674fffe01",
   "metadata": {},
   "outputs": [],
   "source": [
    "# Load the model \n",
    "cnn = load(\"models/model_0_epoch_9.pth\")"
   ]
  },
  {
   "cell_type": "code",
   "execution_count": null,
   "id": "20f1051b-7af3-4e17-a4bf-e0fccd7e253d",
   "metadata": {},
   "outputs": [],
   "source": [
    "trainer = load(\"models/model_trainer_0_epoch_9.pth\")"
   ]
  },
  {
   "cell_type": "code",
   "execution_count": null,
   "id": "f4394d9f-eace-436a-a7ec-732ee605c527",
   "metadata": {},
   "outputs": [],
   "source": [
    "# set up some validation data\n",
    "validation_dataset = CircleDataset(10000,.5)\n",
    "val_loader = DataLoader(validation_dataset, batch_size=64, shuffle=False)"
   ]
  },
  {
   "cell_type": "code",
   "execution_count": null,
   "id": "544ec14a-de35-46c6-b327-3a933ca7ed81",
   "metadata": {},
   "outputs": [],
   "source": [
    "# run the model and get predictions\n",
    "cnn.model.eval()\n",
    "\n",
    "all_preds = []\n",
    "all_targets = []\n",
    "with no_grad():\n",
    "    for batch_idx, (data, targets) in enumerate(val_loader):        \n",
    "        outputs = cnn.model(data)\n",
    "        all_preds.extend(outputs.numpy())\n",
    "        all_targets.extend(targets.numpy())\n",
    "\n",
    "all_preds = np.array(all_preds)\n",
    "all_targets = np.array(all_targets)\n"
   ]
  },
  {
   "cell_type": "markdown",
   "id": "9b6056aa-bb9e-4940-a98d-6b0920c329cd",
   "metadata": {},
   "source": [
    "## Analyze Correlation Data\n",
    "Will MSE loss work if our test statistic is IOU?"
   ]
  },
  {
   "cell_type": "code",
   "execution_count": null,
   "id": "459c75c7-1b0f-4274-8a5c-ab4f350c713c",
   "metadata": {},
   "outputs": [],
   "source": [
    "# check correlation between MSE and IOU \n",
    "mse_scores = []\n",
    "coord_mses = []\n",
    "radius_mses = []\n",
    "iou_scores = []\n",
    "\n",
    "preds_tensor = tensor(all_preds)\n",
    "target_tensor = tensor(all_targets)\n",
    "\n",
    "# for all data\n",
    "for idx, _ in enumerate(preds_tensor):\n",
    "    current_iou = iou(CircleParams(*target_tensor[idx]), CircleParams(*preds_tensor[idx]))\n",
    "    current_mse = np.mean(np.square(all_preds[idx] - all_targets[idx]))\n",
    "    coord_mse = np.mean(np.square(all_preds[idx][0:2] - all_targets[idx][0:2]))\n",
    "    radius_mse = np.mean(np.square(all_preds[idx][2:] - all_targets[idx][2:]))\n",
    "\n",
    "\n",
    "    mse_scores.append(current_mse)\n",
    "    coord_mses.append(coord_mse)\n",
    "    radius_mses.append(radius_mse)\n",
    "    iou_scores.append(current_iou)\n",
    "\n",
    "correlation = np.corrcoef(mse_scores, iou_scores)[0,1]\n",
    "print(\"\\nCorrelation between MSE and IOU: \", correlation)\n",
    "coord_correlation = np.corrcoef(coord_mses, iou_scores)[0,1]\n",
    "print(\"\\nCorrelation between Coordinate MSE and IOU: \", coord_correlation)\n",
    "radius_correlation = np.corrcoef(radius_mses, iou_scores)[0,1]\n",
    "print(\"\\nCorrelation between Radius MSE and IOU: \", radius_correlation)\n",
    "\n",
    "plt.figure(figsize=(10, 6))\n",
    "plt.scatter(mse_scores, iou_scores, alpha=0.5)\n",
    "plt.grid(True, alpha=0.3)\n",
    "plt.xlabel('Mean Square Error (MSE)')\n",
    "plt.ylabel('Intersection over Union (IOU)')\n",
    "print(\"Avg IOU: \", np.average(iou_scores))\n",
    "plt.title('MSE vs IOU Correlation Plot')\n",
    "\n",
    "\n",
    "# for data where loss is looking and bad - if we train the model well, will we expect high IOU?\n",
    "mask = np.array(mse_scores) > 50\n",
    "# mask = np.array(mse_scores) < 50\n",
    "filtered_iou = np.array(iou_scores)[mask]\n",
    "print(\"Avg IOU | MSE < 50: \", np.average(filtered_iou))\n",
    "\n",
    "\n",
    "for mse, mse_str in zip([mse_scores, coord_mses, radius_mses],[\"Overall MSE\", \"Coordinate MSE\", \"Radius MSE\"]):\n",
    "    filtered_mse = np.array(mse)[mask]\n",
    "    \n",
    "    \n",
    "    correlation = np.corrcoef(filtered_mse, filtered_iou)[0,1]\n",
    "    print(f\"\\nCorrelation between {mse_str} and IOU | Overall MSE < 50: \", correlation)\n",
    "\n",
    "    plt.figure(figsize=(10, 6))\n",
    "    plt.scatter(filtered_mse, filtered_iou, alpha=0.5)\n",
    "    plt.grid(True, alpha=0.3)\n",
    "    plt.xlabel(f'{mse_str}')\n",
    "    plt.ylabel('Intersection over Union (IOU)')\n",
    "    plt.title(f'{mse_str} vs IOU Correlation Plot | Overall MSE < 50')\n",
    "    \n",
    "    plt.tight_layout()\n",
    "    plt.show()"
   ]
  },
  {
   "cell_type": "code",
   "execution_count": null,
   "id": "928d7e81-d0ab-4e53-b949-0c9d84f9758b",
   "metadata": {},
   "outputs": [],
   "source": [
    "# look at the MSE distribution\n",
    "plt.hist(mse_scores, bins=30, range=(0,20), alpha=0.5, label='Array 1')\n",
    "mse_scores = np.array(mse_scores)\n",
    "thresholds = [1, 2, 3, 5, 10]\n",
    "for threshold in thresholds:\n",
    "    percent_below = (mse_scores <= threshold).mean() * 100\n",
    "    print(f\"{threshold:.2f} or lower: {percent_below:.2f}%\")\n",
    "print(np.percentile(mse_scores, [25, 50, 75, 85, 90]))\n",
    "plt.show()"
   ]
  },
  {
   "cell_type": "code",
   "execution_count": null,
   "id": "0ed14a1d-74e1-4f0d-96ed-fabe9fec4730",
   "metadata": {},
   "outputs": [],
   "source": [
    "# look at the IOU score distribution\n",
    "plt.hist(iou_scores, bins=30, range=(0,1), alpha=0.5, label='Array 1')\n",
    "iou_scores = np.array(iou_scores)\n",
    "thresholds = [.1, 0.25, 0.5, 0.75, .9, .95]\n",
    "for threshold in thresholds:\n",
    "    percent_above = (iou_scores > threshold).mean() * 100\n",
    "    n_above = (iou_scores > threshold).sum()\n",
    "\n",
    "    print(f\"{threshold:.2f} or higher: {percent_above:.2f}%, {n_above}\")\n",
    "plt.show()"
   ]
  },
  {
   "cell_type": "markdown",
   "id": "94e24f5d-2ebd-4a45-89fa-1639bf23310e",
   "metadata": {},
   "source": [
    "- The (-)IOU and MSE are correlated, but not as tightly as I'd like.\n",
    "- When the loss is lower, they are more correlated\n",
    "- The radius MSE overall is more correlated with the IOU than the coordinate MSE, which suggests that if you were to weight the loss we could get a more accurate IOU - but when I look at subgroups it seems like this trend may be more about outliers and not a good thing to pick up on\n",
    "- Overall, the data suggest that with MSE loss we can probably get pretty accurate (say something like > .9 IOU on average), but that we'll struggle to get extremely accurate (>.95 on average)\n",
    "- I think that's reasonable for this task, so I'll stick to MSE loss\n",
    "- If we cared about that last little bit, we'd need to change our loss function - say to something that approximates the GIOU but for circles"
   ]
  },
  {
   "cell_type": "markdown",
   "id": "ded008e2-ad62-43de-b2d1-47193a0dcc69",
   "metadata": {},
   "source": [
    "## Look through data examples\n",
    "Is there anything obvious happening that we can make better with a different loss or diff training data?"
   ]
  },
  {
   "cell_type": "code",
   "execution_count": null,
   "id": "ad08a3e0-2f88-4a59-ba64-0c1ca099d51a",
   "metadata": {},
   "outputs": [],
   "source": [
    "# Look at some examples to make sure there's no obvious fix (e.g. radius isn't getting weighed enough, etc.)\n",
    "\n",
    "all_preds_int = np.round(np.array(all_preds)).astype(int)\n",
    "all_targets_int = np.round(np.array(all_targets)).astype(int)\n",
    "\n",
    "for idx in range(12):\n",
    "    fig, ax = plt.subplots(figsize=(8, 8))\n",
    "    current_iou = iou(CircleParams(*all_targets[idx]), CircleParams(*all_preds[idx]))\n",
    "    current_mse = np.mean(np.square(all_preds[idx] - all_targets[idx]))\n",
    "\n",
    "    print(\"IOU: \",current_iou)\n",
    "    print(\"Target: \", all_targets[idx])\n",
    "    print(\"Pred: \", all_preds[idx])\n",
    "    print(\"MSE: \", current_mse)\n",
    "    \n",
    "    # Draw target circle\n",
    "    target_img = draw_circle(np.zeros((100, 100)), *all_targets_int[idx])\n",
    "    ax.imshow(target_img, cmap=\"Blues\", alpha=0.5)  \n",
    "    \n",
    "    # Draw prediction circle in a different color\n",
    "    pred_img = draw_circle(np.zeros((100, 100)), *all_preds_int[idx])\n",
    "    ax.imshow(pred_img, cmap=\"Reds\", alpha=0.5)\n",
    "    \n",
    "    ax.set_title(f\"Circle {idx} - Target (blue) vs Prediction (red)\")\n",
    "    plt.show()"
   ]
  },
  {
   "cell_type": "code",
   "execution_count": null,
   "id": "9cbcf948-b423-4b59-bf85-fde23b797a07",
   "metadata": {},
   "outputs": [],
   "source": [
    "# Look at some examples where the model is performing poorly\n",
    "\n",
    "# bad_mask = (np.array(iou_scores) < .7) & (np.array(mse_scores) < 10)\n",
    "\n",
    "bad_mask = np.array(mse_scores) > 150\n",
    "# bad_mask = np.array(mse_scores) < 10 # look at some good ones\n",
    "# bad_mask = np.array(iou_scores) < .1\n",
    "# bad_mask = np.array(iou_scores) > .9 # some good IOUs as well\n",
    "\n",
    "all_preds_bad = np.round(np.array(all_preds)[bad_mask]).astype(int)\n",
    "all_targets_bad = np.round(np.array(all_targets)[bad_mask]).astype(int)\n",
    "\n",
    "for idx in range(12):\n",
    "    fig, ax = plt.subplots(figsize=(8, 8))\n",
    "    current_iou = iou(CircleParams(*all_targets_bad[idx]), CircleParams(*all_preds_bad[idx]))\n",
    "    current_mse = np.mean(np.square(all_preds_bad[idx] - all_targets_bad[idx]))\n",
    "\n",
    "    print(\"IOU: \",current_iou)\n",
    "    print(\"Target: \", all_targets_bad[idx])\n",
    "    print(\"Pred: \", all_preds_bad[idx])\n",
    "    print(\"MSE: \", current_mse)\n",
    "    \n",
    "    # Draw target circle\n",
    "    target_img = draw_circle(np.zeros((100, 100)), *all_targets_bad[idx])\n",
    "    ax.imshow(target_img, cmap=\"Blues\", alpha=0.5)  \n",
    "    \n",
    "    # Draw prediction circle in a different color\n",
    "    pred_img = draw_circle(np.zeros((100, 100)), *all_preds_bad[idx])\n",
    "    ax.imshow(pred_img, cmap=\"Reds\", alpha=0.5)\n",
    "    \n",
    "    ax.set_title(f\"Circle {idx} - Target (blue) vs Prediction (red)\")\n",
    "    plt.show()"
   ]
  },
  {
   "cell_type": "markdown",
   "id": "914336c7-763e-474d-bfce-7146f13569c3",
   "metadata": {},
   "source": [
    "- It's not obvious having explored things that there's anything regularly off - just seems like sometimes the model spits out nonsense\n",
    "- The cases where the model performs well vs not aren't clearly different to the naked eye\n",
    "- There isn't a clear pattern to how the model is off (e.g. more on coordinates, more on radius, etc.)"
   ]
  },
  {
   "cell_type": "markdown",
   "id": "9edf48ee-7362-4f98-bee3-9d58b5399c1d",
   "metadata": {},
   "source": [
    "## Select and test the final model"
   ]
  },
  {
   "cell_type": "code",
   "execution_count": null,
   "id": "091ec67d-c585-4449-a8a6-11f9f3aed26b",
   "metadata": {},
   "outputs": [],
   "source": [
    "# model 1 is continued training from model 0\n",
    "trainer = load(\"models/model_trainer_1_epoch_3.pth\")"
   ]
  },
  {
   "cell_type": "code",
   "execution_count": null,
   "id": "942880d4-8963-4ff8-8263-6f4c61f86bd3",
   "metadata": {},
   "outputs": [],
   "source": [
    "epochs = range(1, len(trainer.validation_losses) + 1) "
   ]
  },
  {
   "cell_type": "code",
   "execution_count": null,
   "id": "7c0daa81-75b5-4bcd-8e7a-8864b71a99b1",
   "metadata": {},
   "outputs": [],
   "source": [
    "plt.plot(epochs, trainer.validation_losses, label=\"Validation Loss\")\n",
    "plt.plot(epochs, trainer.training_losses, label=\"Training Loss\")\n",
    "plt.xlabel('Epoch')\n",
    "plt.ylabel('Loss')\n",
    "plt.grid(True)\n",
    "plt.legend()\n",
    "plt.title(\"Model Loss through Training\")\n",
    "plt.show()"
   ]
  },
  {
   "cell_type": "markdown",
   "id": "4cab813e-6c50-4af0-b5ff-cb032a64d26d",
   "metadata": {},
   "source": [
    "Based on this, performance flattens out around epoch 6, so we'll use that as our final model"
   ]
  },
  {
   "cell_type": "code",
   "execution_count": null,
   "id": "906d8687-5166-4801-a655-e72436a2d534",
   "metadata": {},
   "outputs": [],
   "source": [
    "cnn = load(\"models/model_0_epoch_6.pth\")\n",
    "cnn_trainer = load(\"models/model_trainer_0_epoch_6.pth\")"
   ]
  },
  {
   "cell_type": "code",
   "execution_count": null,
   "id": "47cf3617-e7c8-40ba-8fc8-28cfd2817b9d",
   "metadata": {},
   "outputs": [],
   "source": [
    "# all this does is load a fresh dataset and run validation - so we can use it as our test set\n",
    "cnn_trainer.validate_model()"
   ]
  },
  {
   "cell_type": "code",
   "execution_count": null,
   "id": "f835a8f6-0f3c-4b76-bf66-8276f67e0b42",
   "metadata": {},
   "outputs": [],
   "source": []
  }
 ],
 "metadata": {
  "kernelspec": {
   "display_name": "Python (cnnenv)",
   "language": "python",
   "name": "cnnenv"
  },
  "language_info": {
   "codemirror_mode": {
    "name": "ipython",
    "version": 3
   },
   "file_extension": ".py",
   "mimetype": "text/x-python",
   "name": "python",
   "nbconvert_exporter": "python",
   "pygments_lexer": "ipython3",
   "version": "3.11.11"
  }
 },
 "nbformat": 4,
 "nbformat_minor": 5
}
